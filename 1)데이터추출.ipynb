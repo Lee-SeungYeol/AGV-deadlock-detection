{
 "cells": [
  {
   "cell_type": "code",
   "execution_count": 1,
   "metadata": {},
   "outputs": [
    {
     "name": "stderr",
     "output_type": "stream",
     "text": [
      "c:\\Users\\user\\anaconda3\\envs\\AGV\\lib\\site-packages\\tqdm\\auto.py:21: TqdmWarning: IProgress not found. Please update jupyter and ipywidgets. See https://ipywidgets.readthedocs.io/en/stable/user_install.html\n",
      "  from .autonotebook import tqdm as notebook_tqdm\n"
     ]
    },
    {
     "name": "stdout",
     "output_type": "stream",
     "text": [
      "1.13.1+cu116\n",
      "cuda\n"
     ]
    }
   ],
   "source": [
    "import numpy as np\n",
    "import torch\n",
    "from torch.utils.data import DataLoader\n",
    "import os\n",
    "import cv2\n",
    "import math\n",
    "\n",
    "import matplotlib.pyplot as plt\n",
    "from tqdm import tqdm\n",
    "\n",
    "\n",
    "print(torch.__version__)\n",
    "print(torch.device(\"cuda\" if torch.cuda.is_available() else 'cpu'))\n"
   ]
  },
  {
   "cell_type": "markdown",
   "metadata": {},
   "source": [
    "raw_data_normal, raw_data_ng에서 1초마다 이미지 프레임 추출 "
   ]
  },
  {
   "cell_type": "code",
   "execution_count": null,
   "metadata": {},
   "outputs": [],
   "source": [
    "video_path='./raw_data_normal'\n",
    "normal_frame_list = []\n",
    "#deadlock_frame_list = []\n",
    "for i,video_file in enumerate(tqdm(os.listdir(video_path))):\n",
    "    file_name = os.path.splitext(video_file)[0]\n",
    "   \n",
    "\n",
    "    video = os.path.join(video_path, video_file)\n",
    "\n",
    "    Video_Caption = cv2.VideoCapture(video)\n",
    "    Frame_Rate = Video_Caption.get(5)\n",
    "\n",
    "    frame_count = 0\n",
    "    saved_frame_count = 0\n",
    "\n",
    "    while Video_Caption.isOpened():\n",
    "        Current_Frame_ID = Video_Caption.get(1)\n",
    "        ret,frame = Video_Caption.read()\n",
    "        if not ret:\n",
    "            break\n",
    "\n",
    "        if Current_Frame_ID%math.floor(Frame_Rate)==0:\n",
    "            #gray_frame = cv2.cvtColor(frame, cv2.COLOR_BGR2GRAY)\n",
    "            Frame_Resize = cv2.resize(frame,(416,416))\n",
    "            normal_frame_list.append(Frame_Resize)\n",
    "            saved_frame_count += 1\n",
    "        frame_count += 1\n",
    "        \n",
    "    Video_Caption.release()\n",
    "print(\"모든 비디오 파일 처리 완료.\")"
   ]
  },
  {
   "cell_type": "markdown",
   "metadata": {},
   "source": [
    "+ 흑백이미지가 포함되어있는 경우 제외\n",
    "\n",
    "\n",
    "+ 학습에 사용할 데드락 첫번째 영상에서 AGV가 주행하는 이미지 시퀀스 데이터 제거\n",
    "\n",
    "+ 이미지 시퀀스를 구성할때 다른 영상으로 넘어가게 되면 사용하지 않고 제거"
   ]
  },
  {
   "cell_type": "code",
   "execution_count": null,
   "metadata": {},
   "outputs": [],
   "source": [
    "\n",
    "#인덱스 번호\n",
    "\n",
    "#데드락\n",
    "#######################################################################################\n",
    "#18, 19,20,21,22,23,24,25,26,27,28,29,30,31,32,33,34,35,36,37,38,39,40,41,42,43,44,45,46,47\n",
    "#48,49,50,51,52,53,54,55,56,57,58,59,60,61,62,63,64,65,66,67,68,69,70,71,72,73,74,75,76, 77~91, 92~106, 107~121\n",
    "#122~136, 137~151, 152~166, 167~181, 182~ 196 ,197~211,212~225\n",
    "############################################################################################\n",
    "#324~338,339~353,354~368, 369~383, 384~398, 399~413, 414~428, 429~443, 444~458,459~473, 474~488, 489~493, \n",
    "# 494~508, 509~523,524~538, 539~554, 555~569, 570, 571,572, 573,574, 575, 576, 577\n",
    "############################################################################################\n",
    "#666~680, 681~695, 696~710, 711~725,726~740, 741~755, 756~770, 771~785, 786~ 800, 801~815,816~830, 831~845, 846~860,\n",
    "#861~875, 876~890, 891~905, 906\n",
    "\n",
    "\n",
    "\n",
    "\n",
    "#############################################노말\n",
    "#1~15 16~30,31~45, 46~60,61~75, 76~90, 91~105, 106~120,121~135,136~150,151~165, 166~180, 181~195, 196~210,211~225\n",
    "#226~240, 241~255. 256~260, 261~275, 276~280, 281~293,\n",
    "# \n",
    "# 354~368, 369~383, 384~398, 399~413, 414~428, 429~443, 444~458\n",
    "#459~463 464~475, 476~490, 491~505, 506~520, 521~535, 536~550,551~565, 561~575, 576~590, 591"
   ]
  },
  {
   "cell_type": "markdown",
   "metadata": {},
   "source": [
    "영상마다 이미지 추출하여 Train,Test데이터로 구성"
   ]
  },
  {
   "cell_type": "code",
   "execution_count": null,
   "metadata": {},
   "outputs": [],
   "source": [
    "#normal\n",
    "temp=[]\n",
    "#i_1=[x for x in range(1,293+1)]\n",
    "i_2=[x for x in range(354,591+1)] #테스트\n",
    "\n",
    "i_list=[i_2]\n",
    "for i_value in i_list:\n",
    "    \n",
    "    for j in i_value:\n",
    "       \n",
    "        temp.append(normal_frame_list[j:j+60])\n",
    "        #for i,t_image in enumerate(temp):\n",
    "        # plt.imshow(normal_frame_list[j])\n",
    "        # plt.savefig('./view/'+str(j-354)+'.png')\n",
    "\n",
    "normal_frame_final=np.array(temp)\n",
    "normal_labels=np.zeros((normal_frame_final.shape[0],1))\n",
    "normal_labels = normal_labels.flatten()\n",
    "normal_labels = normal_labels.astype(int)\n",
    "np.save('./normal_image_valid.npy',normal_frame_final)\n",
    "np.save('./normal_labels_valid.npy',normal_labels)\n",
    "\n",
    "#deadlock\n",
    "temp=[]\n",
    "#i_1=[x for x in range(18,225+1)]\n",
    "\n",
    "#i_2=[x for x in range(666,906+1)]\n",
    "\n",
    "i_3=[x for x in range(324,577+1)] #테스트\n",
    "i_list=[i_3]\n",
    "for i_value in i_list:\n",
    "    \n",
    "    for j in i_value:\n",
    "        temp.append(deadlock_frame_list[j:j+60])\n",
    "deadlock_frame_final=np.array(temp)\n",
    "\n",
    "\n",
    "deadlock_labels=np.ones((deadlock_frame_final.shape[0],1))\n",
    "deadlock_labels = deadlock_labels.flatten()\n",
    "deadlock_labels = deadlock_labels.astype(int)\n",
    "np.save('./deadlock_image_valid.npy',deadlock_frame_final)\n",
    "np.save('./deadlock_labels_valid.npy',deadlock_labels)\n",
    "\n"
   ]
  },
  {
   "cell_type": "markdown",
   "metadata": {},
   "source": [
    "데이터셋 저장후 concat"
   ]
  },
  {
   "cell_type": "code",
   "execution_count": null,
   "metadata": {},
   "outputs": [],
   "source": [
    "dataset=np.concatenate((normal_frame_final,deadlock_frame_final),axis=0)\n",
    "dataset_label=np.concatenate((normal_labels,deadlock_labels),axis=0)\n",
    "np.save('./image_valid.npy',dataset)\n",
    "np.save('./label_valid.npy',dataset_label)"
   ]
  }
 ],
 "metadata": {
  "kernelspec": {
   "display_name": "AGV",
   "language": "python",
   "name": "python3"
  },
  "language_info": {
   "codemirror_mode": {
    "name": "ipython",
    "version": 3
   },
   "file_extension": ".py",
   "mimetype": "text/x-python",
   "name": "python",
   "nbconvert_exporter": "python",
   "pygments_lexer": "ipython3",
   "version": "3.10.14"
  }
 },
 "nbformat": 4,
 "nbformat_minor": 2
}
